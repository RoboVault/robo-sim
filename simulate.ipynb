{
 "cells": [
  {
   "cell_type": "code",
   "execution_count": 1,
   "metadata": {
    "scrolled": false
   },
   "outputs": [],
   "source": [
    "%matplotlib inline\n",
    "import matplotlib.pyplot as plt\n",
    "from model import *"
   ]
  },
  {
   "cell_type": "code",
   "execution_count": 5,
   "metadata": {},
   "outputs": [],
   "source": [
    "def simStats(vaultTVL, vaultLog) : \n",
    "    apy = (vaultLog[-1] / vaultTVL)**(stepsPerYear / nSteps) - 1\n",
    "    dradown = 0\n",
    "    prevMax = vaultTVL\n",
    "    for i in range(len(vaultLog)) : \n",
    "        prevMax = max(prevMax, vaultLog[i])\n",
    "        drawdownT = 1 - vaultLog[i] / prevMax\n",
    "        drawdown = max(dradown, drawdownT)\n",
    "    return apy, drawdown\n",
    "\n"
   ]
  },
  {
   "cell_type": "code",
   "execution_count": 93,
   "metadata": {},
   "outputs": [],
   "source": [
    "#paramaters for simulation\n",
    "\n",
    "vaultToken = 'USDC'\n",
    "secondaryToken = 'FTM'\n",
    "volume1 =  2000000 #amount of vaultToken in LP\n",
    "volume2 =  volume1*5 #amount of secondary token in LP\n",
    "\n",
    "# VAULT INFO\n",
    "vaultTVL = 2000 # amount of vault Token in LP \n",
    "lendAllocation = .5\n",
    "#debt thresholds for rebalancing\n",
    "debtLow = .97\n",
    "debtHigh = 1.03\n",
    "collatLow = .5\n",
    "collatTarget = .55\n",
    "collatHigh = .6\n",
    "harvestTreshold = 1\n",
    "rebalanceAdj = .996 #when rebalancing losses from swapping \n",
    "#harvestFee = 0.05 # \n",
    "\n",
    "# APY's\n",
    "lendRate = .05\n",
    "borrowRate = .03\n",
    "farmRate = .35\n",
    "\n",
    "#SIM INFO\n",
    "stepsPerYear = 365*24*60 #if simulating hourly set to be 365 * 24 \n",
    "\n",
    "annualRates = {'lend' : lendRate, 'borrow' : borrowRate, 'farm' : farmRate}\n",
    "adjRates = {'lend' : ((1 + lendRate)**(1/stepsPerYear) - 1), \n",
    "            'borrow' : ((1 + borrowRate)**(1/stepsPerYear) - 1),\n",
    "            'farm' : ((1 + farmRate)**(1/stepsPerYear) - 1)}\n",
    "\n",
    "nSteps = int(stepsPerYear / 365)\n"
   ]
  },
  {
   "cell_type": "code",
   "execution_count": 94,
   "metadata": {},
   "outputs": [],
   "source": [
    "# Sim 1 Day \n",
    "vol1 = volume1\n",
    "vol2 = volume2 \n",
    "lp = createLp(vaultToken, secondaryToken, vol1, vol2)\n",
    "vaultInitial = createVault(vaultTVL, lendAllocation, vaultToken, secondaryToken, vol1, vol2)\n",
    "       \n",
    "pBuy = .6\n",
    "lambdaTrades = 5 # input for poisson distribution to determine number of trades that occur in given time step\n",
    "expScale = 100 # input for exponential distribution to determine size of trade \n",
    "\n",
    "allTrades = []\n",
    "      \n",
    "for i in range(nSteps) : \n",
    "    tradeStep = genTradesRandom(lambdaTrades, expScale, pBuy)\n",
    "    allTrades.append(tradeStep)\n",
    "    \n",
    "vaultLog, priceLog, debtRatioLog, collatRatioLog = simulate(allTrades, vaultInitial, lp, vaultToken, \n",
    "                                                            secondaryToken, vol1, vol2, adjRates)\n",
    "# Sim 1 Day No Rebalance\n",
    "vol1 = volume1\n",
    "vol2 = volume2 \n",
    "lp = createLp(vaultToken, secondaryToken, vol1, vol2)\n",
    "vaultInitial = createVault(vaultTVL, lendAllocation, vaultToken, secondaryToken, vol1, vol2)\n",
    "       \n",
    "vaultLog1, priceLog1, debtRatioLog1, collatRatioLog1 = simulate(allTrades, vaultInitial, lp, vaultToken, \n",
    "                                                            secondaryToken, vol1, vol2, adjRates, rebalance = False)"
   ]
  },
  {
   "cell_type": "code",
   "execution_count": 99,
   "metadata": {
    "scrolled": true
   },
   "outputs": [
    {
     "data": {
      "image/png": "[encoded data removed]",
      "text/plain": [
       "<Figure size 432x288 with 2 Axes>"
      ]
     },
     "metadata": {
      "needs_background": "light"
     },
     "output_type": "display_data"
    }
   ],
   "source": [
    "fig, ax = plt.subplots()\n",
    "\n",
    "ax.plot(vaultLog, color = 'blue', label = 'Vault Value' )\n",
    "ax.plot(vaultLog1, color = 'grey', label = 'Vault Value No Rebalance' )\n",
    "\n",
    "ax.legend()\n",
    "\n",
    "ax2 = ax.twinx()\n",
    "ax2.plot(priceLog, color = 'red', label = 'Price')\n",
    "#ax2.plot(debtRatioLog, color = 'orange', label = 'Debt Ratio')\n",
    "ax2.legend()\n",
    "plt.show()"
   ]
  },
  {
   "cell_type": "markdown",
   "metadata": {},
   "source": [
    "Above graph shows how Vault with Rebalancing performs vs Vault with no rebalancing when price drops significantly "
   ]
  },
  {
   "cell_type": "code",
   "execution_count": 102,
   "metadata": {
    "scrolled": true
   },
   "outputs": [],
   "source": [
    "# impact of volatility on returns \n",
    "nSims = 200\n",
    "apyLog = []\n",
    "stdDevLog = []\n",
    "priceRangeLog = []\n",
    "drawdownLog = []\n",
    "for j in range(nSims) :     \n",
    "    vol1 = volume1\n",
    "    vol2 = volume2 \n",
    "    lp = createLp(vaultToken, secondaryToken, vol1, vol2)\n",
    "    vaultInitial = createVault(vaultTVL, lendAllocation, vaultToken, secondaryToken, vol1, vol2)\n",
    "    lambdaTrades = 5 # input for poisson distribution\n",
    "    allTrades = []\n",
    "    for i in range(nSteps) : \n",
    "        tradeStep = genTradesRandom(lambdaTrades, expScale, pBuy)\n",
    "        allTrades.append(tradeStep)\n",
    "\n",
    "    vaultLog, priceLog, debtRatioLog, collatRatioLog = simulate(allTrades, vaultInitial, lp, vaultToken, \n",
    "                                                                secondaryToken, vol1, vol2, adjRates)\n",
    "    \n",
    "    apy, drawdown = simStats(vaultTVL, vaultLog)\n",
    "    apyLog.append(apy)\n",
    "    drawdownLog.append(drawdown)\n",
    "\n",
    "    stdDevLog.append(numpy.std(priceLog))\n",
    "    priceRangeLog.append(max(priceLog) / min(priceLog) - 1)\n",
    "    \n",
    "\n"
   ]
  },
  {
   "cell_type": "code",
   "execution_count": 103,
   "metadata": {},
   "outputs": [
    {
     "data": {
      "text/plain": [
       "<matplotlib.collections.PathCollection at 0x2479a2339c8>"
      ]
     },
     "execution_count": 103,
     "metadata": {},
     "output_type": "execute_result"
    },
    {
     "data": {
      "image/png": "[encoded data removed]",
      "text/plain": [
       "<Figure size 432x288 with 1 Axes>"
      ]
     },
     "metadata": {
      "needs_background": "light"
     },
     "output_type": "display_data"
    }
   ],
   "source": [
    "plt.scatter(priceRangeLog, apyLog)"
   ]
  },
  {
   "cell_type": "markdown",
   "metadata": {},
   "source": [
    "Above shows APY vs the % difference in the max price and the min price over the simulated period. "
   ]
  },
  {
   "cell_type": "code",
   "execution_count": 104,
   "metadata": {},
   "outputs": [],
   "source": [
    "#extereme price movements example \n",
    "\n",
    "pLow = .2; pHigh = 1 - pLow\n",
    "nSims = 100\n",
    "pBuy = pLow\n",
    "pIncr = (pHigh - pLow) / nSims\n",
    "\n",
    "apyLog = []\n",
    "stdDevLog = []\n",
    "priceRangeLog = []\n",
    "priceChangeLog = []\n",
    "drawdownLog = []\n",
    "\n",
    "for j in range(nSims) :     \n",
    "    vol1 = volume1\n",
    "    vol2 = volume2 \n",
    "    lp = createLp(vaultToken, secondaryToken, vol1, vol2)\n",
    "    vaultInitial = createVault(vaultTVL, lendAllocation, vaultToken, secondaryToken, vol1, vol2)\n",
    "    lambdaTrades = 5 # input for poisson distribution\n",
    "    allTrades = []\n",
    "    for i in range(nSteps) : \n",
    "        tradeStep = genTradesRandom(lambdaTrades, expScale, pBuy)\n",
    "        allTrades.append(tradeStep)\n",
    "\n",
    "    vaultLog, priceLog, debtRatioLog, collatRatioLog = simulate(allTrades, vaultInitial, lp, vaultToken, \n",
    "                                                                secondaryToken, vol1, vol2, adjRates)\n",
    "    \n",
    "    apy, drawdown = simStats(vaultTVL, vaultLog)\n",
    "    apyLog.append(apy)\n",
    "    drawdownLog.append(drawdown)\n",
    "\n",
    "    stdDevLog.append(numpy.std(priceLog))\n",
    "    priceRangeLog.append(max(priceLog) / min(priceLog) - 1)\n",
    "    priceChangeLog.append(priceLog[-1] / priceLog[0] - 1)\n",
    "    pBuy += pIncr\n",
    "    \n"
   ]
  },
  {
   "cell_type": "code",
   "execution_count": 106,
   "metadata": {},
   "outputs": [
    {
     "data": {
      "text/plain": [
       "<matplotlib.collections.PathCollection at 0x2479c6c5d48>"
      ]
     },
     "execution_count": 106,
     "metadata": {},
     "output_type": "execute_result"
    },
    {
     "data": {
      "image/png": "[encoded data removed]",
      "text/plain": [
       "<Figure size 432x288 with 1 Axes>"
      ]
     },
     "metadata": {
      "needs_background": "light"
     },
     "output_type": "display_data"
    }
   ],
   "source": [
    "plt.scatter(priceChangeLog, apyLog)"
   ]
  },
  {
   "cell_type": "code",
   "execution_count": 33,
   "metadata": {},
   "outputs": [],
   "source": [
    "# APY range for debt thresholds vs volatility \n",
    "\n",
    "pBuy = 0.5\n",
    "\n",
    "nSims = 50 # number of different randomly simulated price changes over period \n",
    "expScale = 500\n",
    "\n",
    "dStart = .01; dEnd = .1\n",
    "dIncr = (dEnd - dStart) / 100\n",
    "\n",
    "apyLogs = []\n",
    "debtRangeLogs = []\n",
    "\n",
    "   \n",
    "allTrades = []\n",
    "for i in range(nSteps) : \n",
    "    tradeStep = genTradesRandom(lambdaTrades, expScale, pBuy)\n",
    "    allTrades.append(tradeStep)\n",
    "\n",
    "dRange = dStart\n",
    "dLow = 1 - dRange / 2\n",
    "dHigh = 1 + dRange / 2\n",
    "\n",
    "for j in range(nSims) :\n",
    "    vol1 = volume1\n",
    "    vol2 = volume2 \n",
    "    lp = createLp(vaultToken, secondaryToken, vol1, vol2)\n",
    "    vaultInitial = createVault(vaultTVL, lendAllocation, vaultToken, secondaryToken, vol1, vol2)\n",
    "    vaultLog, priceLog, debtRatioLog, collatRatioLog = simulate(allTrades, vaultInitial, lp, vaultToken, \n",
    "                                                                secondaryToken, vol1, vol2, adjRates,\n",
    "                                                               debtLow = dLow, debtHigh = dHigh)\n",
    "\n",
    "    apy, drawdown = simStats(vaultTVL, vaultLog)\n",
    "\n",
    "    apyLogs.append(apy)\n",
    "    debtRangeLogs.append(dRange)\n",
    "    \n",
    "\n",
    "    dRange += dIncr\n",
    "    dLow = 1 - dRange / 2\n",
    "    dHigh = 1 + dRange / 2"
   ]
  },
  {
   "cell_type": "code",
   "execution_count": 34,
   "metadata": {},
   "outputs": [
    {
     "data": {
      "text/plain": [
       "<matplotlib.collections.PathCollection at 0x2479a6f8688>"
      ]
     },
     "execution_count": 34,
     "metadata": {},
     "output_type": "execute_result"
    },
    {
     "data": {
      "image/png": "[encoded data removed]",
      "text/plain": [
       "<Figure size 432x288 with 1 Axes>"
      ]
     },
     "metadata": {
      "needs_background": "light"
     },
     "output_type": "display_data"
    }
   ],
   "source": [
    "plt.scatter(debtRangeLogs, apyLogs)"
   ]
  },
  {
   "cell_type": "code",
   "execution_count": null,
   "metadata": {},
   "outputs": [],
   "source": [
    "# APY range for debt thresholds vs volatility \n",
    "\n",
    "pBuy = 0.5\n",
    "\n",
    "nSims = 10 # number of different randomly simulated price changes over period \n",
    "expScale = 100\n",
    "expScaleIncr = 50\n",
    "\n",
    "nDebtRanges = 10\n",
    "dStart = .01; dEnd = .2\n",
    "dIncr = (dEnd - dStart) / nDebtRanges\n",
    "\n",
    "apyLogs = numpy.zeros((nSims, nDebtRanges))\n",
    "\n",
    "for j in range(nSims) :   \n",
    "    # generate trade scenarios for price movements\n",
    "    allTrades = []\n",
    "    for i in range(nSteps) : \n",
    "        tradeStep = genTradesRandom(lambdaTrades, expScale, pBuy)\n",
    "        allTrades.append(tradeStep)\n",
    "    \n",
    "    dRange = dStart\n",
    "    dLow = 1 - dRange / 2\n",
    "    dHigh = 1 + dRange / 2\n",
    "    \n",
    "    for k in range(nDebtRanges) :\n",
    "        vol1 = volume1\n",
    "        vol2 = volume2 \n",
    "        lp = createLp(vaultToken, secondaryToken, vol1, vol2)\n",
    "        vaultInitial = createVault(vaultTVL, lendAllocation, vaultToken, secondaryToken, vol1, vol2)\n",
    "        vaultLog, priceLog, debtRatioLog, collatRatioLog = simulate(allTrades, vaultInitial, lp, vaultToken, \n",
    "                                                                    secondaryToken, vol1, vol2, adjRates,\n",
    "                                                                   debtLow = dLow, debtHigh = dHigh)\n",
    "\n",
    "        apy, drawdown = simStats(vaultTVL, vaultLog)\n",
    "        \n",
    "        apyLogs[j,k] = apy\n",
    "        \n",
    "        dRange += dIncr\n",
    "        dLow = 1 - dRange / 2\n",
    "        dHigh = 1 + dRange / 2"
   ]
  },
  {
   "cell_type": "code",
   "execution_count": 16,
   "metadata": {
    "scrolled": true
   },
   "outputs": [
    {
     "data": {
      "image/png": "[encoded data removed]",
      "text/plain": [
       "<Figure size 432x288 with 1 Axes>"
      ]
     },
     "metadata": {
      "needs_background": "light"
     },
     "output_type": "display_data"
    }
   ],
   "source": [
    "plt.imshow(apyLogs, cmap='hot', interpolation='nearest')\n",
    "plt.show()"
   ]
  },
  {
   "cell_type": "code",
   "execution_count": 20,
   "metadata": {},
   "outputs": [
    {
     "data": {
      "text/plain": [
       "array([[0.43000132, 0.42946209, 0.42946209, 0.42946209, 0.42946209,\n",
       "        0.42946209, 0.42946209, 0.42946209, 0.42946209, 0.42946209],\n",
       "       [0.44357359, 0.44403804, 0.44403804, 0.44403804, 0.44403804,\n",
       "        0.44403804, 0.44403804, 0.44403804, 0.44403804, 0.44403804],\n",
       "       [0.43663491, 0.43993532, 0.43993532, 0.43993532, 0.43993532,\n",
       "        0.43993532, 0.43993532, 0.43993532, 0.43993532, 0.43993532],\n",
       "       [0.44974213, 0.45771602, 0.45771602, 0.45771602, 0.45771602,\n",
       "        0.45771602, 0.45771602, 0.45771602, 0.45771602, 0.45771602],\n",
       "       [0.43117919, 0.4270665 , 0.4270665 , 0.4270665 , 0.4270665 ,\n",
       "        0.4270665 , 0.4270665 , 0.4270665 , 0.4270665 , 0.4270665 ],\n",
       "       [0.45102887, 0.45102887, 0.45102887, 0.45102887, 0.45102887,\n",
       "        0.45102887, 0.45102887, 0.45102887, 0.45102887, 0.45102887],\n",
       "       [0.44670128, 0.44670128, 0.44670128, 0.44670128, 0.44670128,\n",
       "        0.44670128, 0.44670128, 0.44670128, 0.44670128, 0.44670128],\n",
       "       [0.44714242, 0.44714242, 0.44714242, 0.44714242, 0.44714242,\n",
       "        0.44714242, 0.44714242, 0.44714242, 0.44714242, 0.44714242],\n",
       "       [0.44851095, 0.44851095, 0.44851095, 0.44851095, 0.44851095,\n",
       "        0.44851095, 0.44851095, 0.44851095, 0.44851095, 0.44851095],\n",
       "       [0.45206336, 0.45206336, 0.45206336, 0.45206336, 0.45206336,\n",
       "        0.45206336, 0.45206336, 0.45206336, 0.45206336, 0.45206336]])"
      ]
     },
     "execution_count": 20,
     "metadata": {},
     "output_type": "execute_result"
    }
   ],
   "source": [
    "apyLogs"
   ]
  },
  {
   "cell_type": "code",
   "execution_count": null,
   "metadata": {},
   "outputs": [],
   "source": []
  }
 ],
 "metadata": {
  "kernelspec": {
   "display_name": "Python 3",
   "language": "python",
   "name": "python3"
  },
  "language_info": {
   "codemirror_mode": {
    "name": "ipython",
    "version": 3
   },
   "file_extension": ".py",
   "mimetype": "text/x-python",
   "name": "python",
   "nbconvert_exporter": "python",
   "pygments_lexer": "ipython3",
   "version": "3.7.6"
  }
 },
 "nbformat": 4,
 "nbformat_minor": 4
}
