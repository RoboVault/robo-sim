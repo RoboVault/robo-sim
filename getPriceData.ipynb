{
 "cells": [
  {
   "cell_type": "code",
   "execution_count": 1,
   "id": "32d750a5",
   "metadata": {},
   "outputs": [],
   "source": [
    "import pandas as pd \n",
    "import numpy as np\n",
    "import calendar\n",
    "from datetime import datetime, date, timedelta"
   ]
  },
  {
   "cell_type": "code",
   "execution_count": 2,
   "id": "4e3d85d2",
   "metadata": {},
   "outputs": [],
   "source": [
    "import ccxt\n",
    "exchange_class = getattr(ccxt, 'binance')\n",
    "binance  = exchange_class()\n",
    "\n",
    "\n",
    "def min_ohlcv(dt, pair, limit):\n",
    "    # UTC native object\n",
    "    since = calendar.timegm(dt.utctimetuple())*1000\n",
    "    ohlcv1 = binance.fetch_ohlcv(symbol=pair, timeframe='1m', since=since, limit=limit)\n",
    "    ohlcv2 = binance.fetch_ohlcv(symbol=pair, timeframe='1m', since=since, limit=limit)\n",
    "    ohlcv = ohlcv1 + ohlcv2\n",
    "    return ohlcv\n",
    "\n",
    "def ohlcv(dt, pair, period='1d'):\n",
    "    ohlcv = []\n",
    "    limit = 1000\n",
    "    if period == '1m':\n",
    "        limit = 720\n",
    "    elif period == '1d':\n",
    "        limit = 365\n",
    "    elif period == '1h':\n",
    "        limit = 24\n",
    "    elif period == '5m':\n",
    "        limit = 288\n",
    "    for i in dt:\n",
    "        start_dt = datetime.strptime(i, \"%Y%m%d\")\n",
    "        since = calendar.timegm(start_dt.utctimetuple())*1000\n",
    "        if period == '1m':\n",
    "            ohlcv.extend(min_ohlcv(start_dt, pair, limit))\n",
    "        else:\n",
    "            ohlcv.extend(binance.fetch_ohlcv(symbol=pair, timeframe=period, since=since, limit=limit))\n",
    "    df = pd.DataFrame(ohlcv, columns = ['Time', 'Open', 'High', 'Low', 'Close', 'Volume'])\n",
    "    df['Time'] = [datetime.fromtimestamp(float(time)/1000) for time in df['Time']]\n",
    "    df['Open'] = df['Open'].astype(np.float64)\n",
    "    df['High'] = df['High'].astype(np.float64)\n",
    "    df['Low'] = df['Low'].astype(np.float64)\n",
    "    df['Close'] = df['Close'].astype(np.float64)\n",
    "    df['Volume'] = df['Volume'].astype(np.float64)\n",
    "    df.set_index('Time', inplace=True)\n",
    "    return df\n",
    "\n",
    "from datetime import datetime, date, timedelta\n",
    "\n",
    "start_day = \"20210510\" #\"20201201\"\n",
    "start_dt = datetime.strptime(start_day, \"%Y%m%d\")\n",
    "end_day = \"20220510\"\n",
    "end_dt = datetime.strptime(end_day, \"%Y%m%d\")\n",
    "days_num = (end_dt - start_dt).days + 1\n",
    "datelist = [start_dt + timedelta(days=x) for x in range(days_num)]\n",
    "datelist = [date.strftime(\"%Y%m%d\") for date in datelist]\n",
    "\n",
    "#fwd = 10\n",
    "coins = ['BTC' , 'ETH', 'FTM']\n",
    "df_list = []\n",
    "for coin in coins : \n",
    "  pair = coin + \"/USDT\"\n",
    "  df = ohlcv(datelist, pair, '5m')\n",
    "\n",
    "  for col in df.columns : \n",
    "    if col != \"Time\" : \n",
    "      df = df.rename(columns={col : col + \"_\" + coin})\n",
    "    \n",
    "  df_list.append(df)\n",
    "    \n"
   ]
  },
  {
   "cell_type": "code",
   "execution_count": 3,
   "id": "1713db59",
   "metadata": {},
   "outputs": [],
   "source": [
    "df = df_list[0]\n",
    "for i in range(len(coins) -1 ) : \n",
    "  df1 = df_list[i+1]\n",
    "  df = pd.concat([df, df1], axis=1, sort=False)\n",
    "\n",
    "  \n",
    "df.to_csv(\"prices_all_5m.csv\")"
   ]
  }
 ],
 "metadata": {
  "kernelspec": {
   "display_name": "Python 3 (ipykernel)",
   "language": "python",
   "name": "python3"
  },
  "language_info": {
   "codemirror_mode": {
    "name": "ipython",
    "version": 3
   },
   "file_extension": ".py",
   "mimetype": "text/x-python",
   "name": "python",
   "nbconvert_exporter": "python",
   "pygments_lexer": "ipython3",
   "version": "3.8.10"
  }
 },
 "nbformat": 4,
 "nbformat_minor": 5
}
